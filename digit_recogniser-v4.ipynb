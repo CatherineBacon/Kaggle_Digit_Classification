{
 "cells": [
  {
   "cell_type": "markdown",
   "metadata": {},
   "source": [
    "Take model used in v3 and try one hot encoding output"
   ]
  },
  {
   "cell_type": "code",
   "execution_count": 1,
   "metadata": {
    "collapsed": true
   },
   "outputs": [],
   "source": [
    "# import libraries\n",
    "import numpy as np\n",
    "import csv\n",
    "from sklearn.neural_network import MLPClassifier\n",
    "from sklearn.model_selection import GridSearchCV\n",
    "from sklearn.preprocessing import label_binarize\n",
    "from sklearn.preprocessing import LabelBinarizer"
   ]
  },
  {
   "cell_type": "code",
   "execution_count": 2,
   "metadata": {
    "collapsed": true
   },
   "outputs": [],
   "source": [
    "# Read in the data\n",
    "# Create the training and test sets, skipping the header\n",
    "# row with [1:]\n",
    "dataset = np.genfromtxt(open('train.csv', 'r'),\n",
    "                        delimiter=',', dtype='f8')[1:]\n",
    "target = [x[0] for x in dataset]\n",
    "train = [x[1:]/255 for x in dataset]\n",
    "test = np.genfromtxt(open('test.csv', 'r'),\n",
    "                     delimiter =',', dtype='f8')[1:]\n",
    "test = [x/255 for x in test]"
   ]
  },
  {
   "cell_type": "code",
   "execution_count": 3,
   "metadata": {
    "collapsed": false
   },
   "outputs": [],
   "source": [
    "# 1 hot encode target labels\n",
    "target_ones = label_binarize(target, classes=[0,1,2,3,4,5,6,7,8,9])"
   ]
  },
  {
   "cell_type": "code",
   "execution_count": 4,
   "metadata": {
    "collapsed": false
   },
   "outputs": [
    {
     "name": "stdout",
     "output_type": "stream",
     "text": [
      "[ 0.  1.  2.  3.  4.  5.  6.  7.  8.  9.]\n"
     ]
    },
    {
     "data": {
      "text/plain": [
       "array([[0, 1, 0, ..., 0, 0, 0],\n",
       "       [1, 0, 0, ..., 0, 0, 0],\n",
       "       [0, 1, 0, ..., 0, 0, 0],\n",
       "       ..., \n",
       "       [0, 0, 0, ..., 1, 0, 0],\n",
       "       [0, 0, 0, ..., 0, 0, 0],\n",
       "       [0, 0, 0, ..., 0, 0, 1]])"
      ]
     },
     "execution_count": 4,
     "metadata": {},
     "output_type": "execute_result"
    }
   ],
   "source": [
    "lb = LabelBinarizer()\n",
    "lb.fit(target)\n",
    "print(lb.classes_)\n",
    "target_1 = lb.transform(target)\n",
    "target_1"
   ]
  },
  {
   "cell_type": "code",
   "execution_count": 5,
   "metadata": {
    "collapsed": false
   },
   "outputs": [],
   "source": [
    "# set model use parameters from v3\n",
    "mlp = MLPClassifier(\n",
    "    early_stopping=True, \n",
    "    hidden_layer_sizes=(2000),\n",
    "    max_iter=200,\n",
    "    learning_rate='adaptive'\n",
    ")\n"
   ]
  },
  {
   "cell_type": "code",
   "execution_count": null,
   "metadata": {
    "collapsed": false
   },
   "outputs": [],
   "source": [
    "# hyperparameters\n",
    "param_grid = {\n",
    "    'hidden_layer_sizes': [\n",
    "        (2000)\n",
    "    ],\n",
    "    'max_iter': [200, 400],\n",
    "    'learning_rate': ['adaptive'] \n",
    "}\n",
    "\n",
    "clf = GridSearchCV(mlp, param_grid)\n",
    "clf.fit(train, target_ones)\n",
    "print('Best score: {}'.format(clf.best_score_))\n",
    "print('Best parameters: {}'.format(clf.best_params_))"
   ]
  },
  {
   "cell_type": "markdown",
   "metadata": {},
   "source": [
    "Previous result:\n",
    "- Best score: 0.973357142857\n",
    "- Best parameters: {'hidden_layer_sizes': 800}\n",
    "\n",
    "- Best score: 0.974071428571\n",
    "- Best parameters: {'hidden_layer_sizes': 2000}\n",
    "\n",
    "- Best score: 0.975523809524\n",
    "- Best parameters: {'learning_rate': 'constant', 'max_iter': 200, 'hidden_layer_sizes': 2000}"
   ]
  },
  {
   "cell_type": "code",
   "execution_count": 6,
   "metadata": {
    "collapsed": false
   },
   "outputs": [
    {
     "data": {
      "text/plain": [
       "0.99595238095238092"
      ]
     },
     "execution_count": 6,
     "metadata": {},
     "output_type": "execute_result"
    }
   ],
   "source": [
    "mlp.fit(train, target_ones)\n",
    "mlp.score(train, target_ones)\n",
    "#clf.score(train, target_ones)"
   ]
  },
  {
   "cell_type": "code",
   "execution_count": 8,
   "metadata": {
    "collapsed": false
   },
   "outputs": [],
   "source": [
    "# predictions for test set\n",
    "predictions = mlp.predict(test)"
   ]
  },
  {
   "cell_type": "code",
   "execution_count": 11,
   "metadata": {
    "collapsed": false
   },
   "outputs": [],
   "source": [
    "# transform back to labels\n",
    "results = lb.inverse_transform(predictions)"
   ]
  },
  {
   "cell_type": "code",
   "execution_count": 12,
   "metadata": {
    "collapsed": false
   },
   "outputs": [],
   "source": [
    "# save predictions to file\n",
    "output = csv.writer(open('results-v4.csv', 'wt'))\n",
    "output.writerow([\"ImageId\", \"Label\"])\n",
    "for i, res in enumerate(results):\n",
    "    output.writerow([i+1, int(res)])"
   ]
  },
  {
   "cell_type": "code",
   "execution_count": null,
   "metadata": {
    "collapsed": true
   },
   "outputs": [],
   "source": []
  }
 ],
 "metadata": {
  "anaconda-cloud": {},
  "kernelspec": {
   "display_name": "Python [conda root]",
   "language": "python",
   "name": "conda-root-py"
  },
  "language_info": {
   "codemirror_mode": {
    "name": "ipython",
    "version": 2
   },
   "file_extension": ".py",
   "mimetype": "text/x-python",
   "name": "python",
   "nbconvert_exporter": "python",
   "pygments_lexer": "ipython2",
   "version": "2.7.12"
  }
 },
 "nbformat": 4,
 "nbformat_minor": 1
}
