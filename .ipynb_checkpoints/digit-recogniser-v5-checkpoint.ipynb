{
 "cells": [
  {
   "cell_type": "markdown",
   "metadata": {},
   "source": [
    "The is an attempt using a deep learning network\n",
    "\n",
    "https://keras.io/#you-have-just-found-keras"
   ]
  },
  {
   "cell_type": "code",
   "execution_count": 82,
   "metadata": {
    "collapsed": false
   },
   "outputs": [],
   "source": [
    "from keras.models import Sequential\n",
    "from keras.layers import Dense, Dropout, Activation, Flatten\n",
    "from keras.layers import Convolution2D, MaxPooling2D\n",
    "from keras.utils import np_utils\n",
    "from keras import backend as K"
   ]
  },
  {
   "cell_type": "code",
   "execution_count": 83,
   "metadata": {
    "collapsed": true
   },
   "outputs": [],
   "source": [
    "import numpy as np\n",
    "np.random.seed(1337)\n",
    "import csv"
   ]
  },
  {
   "cell_type": "code",
   "execution_count": 84,
   "metadata": {
    "collapsed": true
   },
   "outputs": [],
   "source": [
    "# set model variables\n",
    "batch_size = 128\n",
    "nb_classes = 10\n",
    "nb_epoch = 12\n",
    "\n",
    "# number of convolutional filters to use\n",
    "nb_filters = 32\n",
    "\n",
    "# size of pooling area for max pooling\n",
    "pool_size = (2, 2)\n",
    "\n",
    "# convolution kernal size\n",
    "kernel_size = (3, 3)"
   ]
  },
  {
   "cell_type": "code",
   "execution_count": 85,
   "metadata": {
    "collapsed": true
   },
   "outputs": [],
   "source": [
    "# input image dimensions\n",
    "img_rows, img_cols = 28, 28"
   ]
  },
  {
   "cell_type": "code",
   "execution_count": 86,
   "metadata": {
    "collapsed": false
   },
   "outputs": [
    {
     "name": "stdout",
     "output_type": "stream",
     "text": [
      "(42000, 785)\n"
     ]
    }
   ],
   "source": [
    "# read in data and reshape\n",
    "dataset = np.genfromtxt(open('train.csv', 'r'), \n",
    "                        delimiter=\",\", skip_header=1)\n",
    "print(dataset.shape)"
   ]
  },
  {
   "cell_type": "code",
   "execution_count": 87,
   "metadata": {
    "collapsed": false
   },
   "outputs": [
    {
     "name": "stdout",
     "output_type": "stream",
     "text": [
      "(42000, 784)\n",
      "(42000,)\n"
     ]
    }
   ],
   "source": [
    "y_train = dataset[:,0]\n",
    "X_train = dataset[:,1:]\n",
    "print(X_train.shape)\n",
    "print(y_train.shape)"
   ]
  },
  {
   "cell_type": "code",
   "execution_count": 88,
   "metadata": {
    "collapsed": false
   },
   "outputs": [
    {
     "name": "stdout",
     "output_type": "stream",
     "text": [
      "(28000, 784)\n"
     ]
    }
   ],
   "source": [
    "X_test = np.genfromtxt(open('test.csv', 'r'), \n",
    "                       delimiter =',', skip_header=1)\n",
    "print(X_test.shape)"
   ]
  },
  {
   "cell_type": "code",
   "execution_count": 89,
   "metadata": {
    "collapsed": false
   },
   "outputs": [
    {
     "name": "stdout",
     "output_type": "stream",
     "text": [
      "('X_train shape: ', (42000, 28, 28, 1))\n",
      "('X_test shape: ', (28000, 28, 28, 1))\n"
     ]
    }
   ],
   "source": [
    "# reshape\n",
    "X_train = X_train.reshape(X_train.shape[0], img_rows, img_cols, 1)\n",
    "X_train /= 255\n",
    "print('X_train shape: ', X_train.shape)\n",
    "\n",
    "X_test = X_test.reshape(X_test.shape[0], img_rows, img_cols, 1)\n",
    "X_test /= 255\n",
    "print('X_test shape: ', X_test.shape)"
   ]
  },
  {
   "cell_type": "code",
   "execution_count": 90,
   "metadata": {
    "collapsed": true
   },
   "outputs": [],
   "source": [
    "input_shape = (img_rows, img_cols, 1)"
   ]
  },
  {
   "cell_type": "code",
   "execution_count": 91,
   "metadata": {
    "collapsed": false
   },
   "outputs": [],
   "source": [
    "# convert class vectors to binary class matrices\n",
    "Y_train = np_utils.to_categorical(y_train, nb_classes)"
   ]
  },
  {
   "cell_type": "code",
   "execution_count": 92,
   "metadata": {
    "collapsed": false
   },
   "outputs": [
    {
     "name": "stdout",
     "output_type": "stream",
     "text": [
      "(42000, 10)\n"
     ]
    }
   ],
   "source": [
    "print(Y_train.shape)"
   ]
  },
  {
   "cell_type": "code",
   "execution_count": 93,
   "metadata": {
    "collapsed": true
   },
   "outputs": [],
   "source": [
    "# model\n",
    "model = Sequential()"
   ]
  },
  {
   "cell_type": "code",
   "execution_count": 94,
   "metadata": {
    "collapsed": false
   },
   "outputs": [],
   "source": [
    "model.add(Convolution2D(nb_filters, kernel_size[0], \n",
    "                        kernel_size[1], border_mode='valid',\n",
    "                       input_shape=input_shape))\n",
    "model.add(Activation('relu'))\n",
    "model.add(Convolution2D(nb_filters, kernel_size[0],\n",
    "                       kernel_size[1]))\n",
    "model.add(Activation('relu'))\n",
    "model.add(MaxPooling2D(pool_size=pool_size))\n",
    "model.add(Dropout(0.25))\n",
    "\n",
    "model.add(Flatten())\n",
    "model.add(Dense(128))\n",
    "model.add(Activation('relu'))\n",
    "model.add(Dropout(0.5))\n",
    "model.add(Dense(nb_classes))\n",
    "model.add(Activation('softmax'))\n",
    "\n",
    "model.compile(loss='categorical_crossentropy',\n",
    "             optimizer='adadelta',\n",
    "             metrics=['accuracy'])"
   ]
  },
  {
   "cell_type": "code",
   "execution_count": 95,
   "metadata": {
    "collapsed": false
   },
   "outputs": [
    {
     "name": "stdout",
     "output_type": "stream",
     "text": [
      "37800\n"
     ]
    }
   ],
   "source": [
    "# create cross validation set\n",
    "cut_off = int(X_train.shape[0]*0.9)\n",
    "print(cut_off)"
   ]
  },
  {
   "cell_type": "code",
   "execution_count": 96,
   "metadata": {
    "collapsed": true
   },
   "outputs": [],
   "source": [
    "X_cv = X_train[cut_off:]\n",
    "Y_cv = Y_train[cut_off:]\n",
    "\n",
    "X_train = X_train[:cut_off]\n",
    "Y_train = Y_train[:cut_off]"
   ]
  },
  {
   "cell_type": "code",
   "execution_count": 97,
   "metadata": {
    "collapsed": false
   },
   "outputs": [
    {
     "name": "stdout",
     "output_type": "stream",
     "text": [
      "(4200, 28, 28, 1)\n",
      "(4200, 10)\n",
      "(37800, 28, 28, 1)\n",
      "(37800, 10)\n"
     ]
    }
   ],
   "source": [
    "print(X_cv.shape)\n",
    "print(Y_cv.shape)\n",
    "print(X_train.shape)\n",
    "print(Y_train.shape)"
   ]
  },
  {
   "cell_type": "code",
   "execution_count": 98,
   "metadata": {
    "collapsed": false
   },
   "outputs": [
    {
     "name": "stdout",
     "output_type": "stream",
     "text": [
      "Train on 37800 samples, validate on 4200 samples\n",
      "Epoch 1/12\n",
      "37800/37800 [==============================] - 115s - loss: 0.4910 - acc: 0.8474 - val_loss: 0.1310 - val_acc: 0.9588\n",
      "Epoch 2/12\n",
      "37800/37800 [==============================] - 126s - loss: 0.1626 - acc: 0.9514 - val_loss: 0.0860 - val_acc: 0.9710\n",
      "Epoch 3/12\n",
      "37800/37800 [==============================] - 152s - loss: 0.1232 - acc: 0.9630 - val_loss: 0.0691 - val_acc: 0.9760\n",
      "Epoch 4/12\n",
      "37800/37800 [==============================] - 126s - loss: 0.1058 - acc: 0.9685 - val_loss: 0.0681 - val_acc: 0.9740\n",
      "Epoch 5/12\n",
      "37800/37800 [==============================] - 107s - loss: 0.0930 - acc: 0.9721 - val_loss: 0.0534 - val_acc: 0.9810\n",
      "Epoch 6/12\n",
      "37800/37800 [==============================] - 119s - loss: 0.0844 - acc: 0.9747 - val_loss: 0.0504 - val_acc: 0.9812\n",
      "Epoch 7/12\n",
      "37800/37800 [==============================] - 123s - loss: 0.0779 - acc: 0.9770 - val_loss: 0.0461 - val_acc: 0.9843\n",
      "Epoch 8/12\n",
      "37800/37800 [==============================] - 113s - loss: 0.0696 - acc: 0.9794 - val_loss: 0.0398 - val_acc: 0.9857\n",
      "Epoch 9/12\n",
      "37800/37800 [==============================] - 126s - loss: 0.0641 - acc: 0.9809 - val_loss: 0.0356 - val_acc: 0.9862\n",
      "Epoch 10/12\n",
      "37800/37800 [==============================] - 115s - loss: 0.0587 - acc: 0.9818 - val_loss: 0.0350 - val_acc: 0.9881\n",
      "Epoch 11/12\n",
      "37800/37800 [==============================] - 129s - loss: 0.0566 - acc: 0.9830 - val_loss: 0.0331 - val_acc: 0.9879\n",
      "Epoch 12/12\n",
      "37800/37800 [==============================] - 118s - loss: 0.0524 - acc: 0.9845 - val_loss: 0.0330 - val_acc: 0.9864\n",
      "('Test score: ', 0.03304536611285238)\n",
      "('Test accuracy: ', 0.98642857142857143)\n"
     ]
    }
   ],
   "source": [
    "# now fit model\n",
    "\n",
    "model.fit(X_train, Y_train, batch_size=batch_size, \n",
    "          nb_epoch=nb_epoch, verbose=1, \n",
    "          validation_data=(X_cv, Y_cv))\n",
    "score = model.evaluate(X_cv,Y_cv, verbose=0)\n",
    "print('Test score: ', score[0])\n",
    "print('Test accuracy: ', score[1])"
   ]
  },
  {
   "cell_type": "markdown",
   "metadata": {},
   "source": [
    "previous results\n",
    "\n",
    "- ('Test score: ', 0.03304536611285238)\n",
    "- ('Test accuracy: ', 0.98642857142857143)"
   ]
  },
  {
   "cell_type": "code",
   "execution_count": 99,
   "metadata": {
    "collapsed": false
   },
   "outputs": [
    {
     "name": "stdout",
     "output_type": "stream",
     "text": [
      "28000/28000 [==============================] - 34s    \n"
     ]
    }
   ],
   "source": [
    "# now make predictions for the test set\n",
    "predictions = model.predict_classes(X_test)"
   ]
  },
  {
   "cell_type": "code",
   "execution_count": 100,
   "metadata": {
    "collapsed": true
   },
   "outputs": [],
   "source": [
    "labels = np.array(range(1, predictions.shape[0]+1))\n",
    "results = np.column_stack([labels, predictions])"
   ]
  },
  {
   "cell_type": "code",
   "execution_count": 102,
   "metadata": {
    "collapsed": false
   },
   "outputs": [],
   "source": [
    "np.savetxt('results-v5.csv', results, delimiter=',',\n",
    "          header='ImageId,Label', fmt='%d', comments='')"
   ]
  }
 ],
 "metadata": {
  "anaconda-cloud": {},
  "kernelspec": {
   "display_name": "Python [conda root]",
   "language": "python",
   "name": "conda-root-py"
  },
  "language_info": {
   "codemirror_mode": {
    "name": "ipython",
    "version": 2
   },
   "file_extension": ".py",
   "mimetype": "text/x-python",
   "name": "python",
   "nbconvert_exporter": "python",
   "pygments_lexer": "ipython2",
   "version": "2.7.12"
  }
 },
 "nbformat": 4,
 "nbformat_minor": 1
}
