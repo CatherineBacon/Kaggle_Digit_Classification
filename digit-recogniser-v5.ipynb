{
 "cells": [
  {
   "cell_type": "markdown",
   "metadata": {},
   "source": [
    "The is an attempt using a deep learning network\n",
    "\n",
    "https://keras.io/#you-have-just-found-keras"
   ]
  },
  {
   "cell_type": "code",
   "execution_count": 171,
   "metadata": {
    "collapsed": false
   },
   "outputs": [],
   "source": [
    "from keras.models import Sequential\n",
    "from keras.layers import Dense, Dropout, Activation, Flatten\n",
    "from keras.layers import Convolution2D, MaxPooling2D\n",
    "from keras.utils import np_utils\n",
    "from keras import backend as K\n",
    "import keras"
   ]
  },
  {
   "cell_type": "code",
   "execution_count": 153,
   "metadata": {
    "collapsed": true
   },
   "outputs": [],
   "source": [
    "import numpy as np\n",
    "np.random.seed(1337)\n",
    "import csv"
   ]
  },
  {
   "cell_type": "code",
   "execution_count": 154,
   "metadata": {
    "collapsed": true
   },
   "outputs": [],
   "source": [
    "# set model variables\n",
    "batch_size = 128\n",
    "nb_classes = 10\n",
    "nb_epoch = 12\n",
    "\n",
    "# number of convolutional filters to use\n",
    "nb_filters = 32\n",
    "\n",
    "# size of pooling area for max pooling\n",
    "pool_size = (2, 2)\n",
    "\n",
    "# convolution kernal size\n",
    "kernel_size = (3, 3)"
   ]
  },
  {
   "cell_type": "code",
   "execution_count": 155,
   "metadata": {
    "collapsed": true
   },
   "outputs": [],
   "source": [
    "# input image dimensions\n",
    "img_rows, img_cols = 28, 28"
   ]
  },
  {
   "cell_type": "code",
   "execution_count": 156,
   "metadata": {
    "collapsed": false
   },
   "outputs": [
    {
     "name": "stdout",
     "output_type": "stream",
     "text": [
      "(42000, 785)\n"
     ]
    }
   ],
   "source": [
    "# read in data and reshape\n",
    "dataset = np.genfromtxt(open('train.csv', 'r'), \n",
    "                        delimiter=\",\", skip_header=1)\n",
    "print(dataset.shape)"
   ]
  },
  {
   "cell_type": "code",
   "execution_count": 157,
   "metadata": {
    "collapsed": false
   },
   "outputs": [
    {
     "name": "stdout",
     "output_type": "stream",
     "text": [
      "(42000, 784)\n",
      "(42000,)\n"
     ]
    }
   ],
   "source": [
    "y_train = dataset[:,0]\n",
    "X_train = dataset[:,1:]\n",
    "print(X_train.shape)\n",
    "print(y_train.shape)"
   ]
  },
  {
   "cell_type": "code",
   "execution_count": 158,
   "metadata": {
    "collapsed": false
   },
   "outputs": [
    {
     "name": "stdout",
     "output_type": "stream",
     "text": [
      "(28000, 784)\n"
     ]
    }
   ],
   "source": [
    "X_test = np.genfromtxt(open('test.csv', 'r'), \n",
    "                       delimiter =',', skip_header=1)\n",
    "print(X_test.shape)"
   ]
  },
  {
   "cell_type": "code",
   "execution_count": 159,
   "metadata": {
    "collapsed": false
   },
   "outputs": [
    {
     "name": "stdout",
     "output_type": "stream",
     "text": [
      "('X_train shape: ', (42000, 28, 28, 1))\n",
      "('X_test shape: ', (28000, 28, 28, 1))\n"
     ]
    }
   ],
   "source": [
    "# reshape\n",
    "X_train = X_train.reshape(X_train.shape[0], img_rows, img_cols, 1)\n",
    "X_train /= 255\n",
    "print('X_train shape: ', X_train.shape)\n",
    "\n",
    "X_test = X_test.reshape(X_test.shape[0], img_rows, img_cols, 1)\n",
    "X_test /= 255\n",
    "print('X_test shape: ', X_test.shape)"
   ]
  },
  {
   "cell_type": "code",
   "execution_count": 160,
   "metadata": {
    "collapsed": true
   },
   "outputs": [],
   "source": [
    "input_shape = (img_rows, img_cols, 1)"
   ]
  },
  {
   "cell_type": "code",
   "execution_count": 161,
   "metadata": {
    "collapsed": false
   },
   "outputs": [],
   "source": [
    "# convert class vectors to binary class matrices\n",
    "Y_train = np_utils.to_categorical(y_train, nb_classes)"
   ]
  },
  {
   "cell_type": "code",
   "execution_count": 162,
   "metadata": {
    "collapsed": false
   },
   "outputs": [
    {
     "name": "stdout",
     "output_type": "stream",
     "text": [
      "(42000, 10)\n"
     ]
    }
   ],
   "source": [
    "print(Y_train.shape)"
   ]
  },
  {
   "cell_type": "code",
   "execution_count": 163,
   "metadata": {
    "collapsed": false
   },
   "outputs": [
    {
     "name": "stdout",
     "output_type": "stream",
     "text": [
      "37800\n"
     ]
    }
   ],
   "source": [
    "# create cross validation set\n",
    "cut_off = int(X_train.shape[0]*0.9)\n",
    "print(cut_off)"
   ]
  },
  {
   "cell_type": "code",
   "execution_count": 164,
   "metadata": {
    "collapsed": true
   },
   "outputs": [],
   "source": [
    "X_cv = X_train[cut_off:]\n",
    "Y_cv = Y_train[cut_off:]\n",
    "\n",
    "X_train = X_train[:cut_off]\n",
    "Y_train = Y_train[:cut_off]"
   ]
  },
  {
   "cell_type": "code",
   "execution_count": 165,
   "metadata": {
    "collapsed": false
   },
   "outputs": [
    {
     "name": "stdout",
     "output_type": "stream",
     "text": [
      "(4200, 28, 28, 1)\n",
      "(4200, 10)\n",
      "(37800, 28, 28, 1)\n",
      "(37800, 10)\n"
     ]
    }
   ],
   "source": [
    "print(X_cv.shape)\n",
    "print(Y_cv.shape)\n",
    "print(X_train.shape)\n",
    "print(Y_train.shape)"
   ]
  },
  {
   "cell_type": "code",
   "execution_count": 166,
   "metadata": {
    "collapsed": true
   },
   "outputs": [],
   "source": [
    "# model\n",
    "model = Sequential()"
   ]
  },
  {
   "cell_type": "code",
   "execution_count": 167,
   "metadata": {
    "collapsed": false
   },
   "outputs": [
    {
     "name": "stdout",
     "output_type": "stream",
     "text": [
      "____________________________________________________________________________________________________\n",
      "Layer (type)                     Output Shape          Param #     Connected to                     \n",
      "====================================================================================================\n",
      "convolution2d_25 (Convolution2D) (None, 26, 26, 32)    320         convolution2d_input_6[0][0]      \n",
      "____________________________________________________________________________________________________\n",
      "activation_26 (Activation)       (None, 26, 26, 32)    0           convolution2d_25[0][0]           \n",
      "____________________________________________________________________________________________________\n",
      "convolution2d_26 (Convolution2D) (None, 24, 24, 32)    9248        activation_26[0][0]              \n",
      "____________________________________________________________________________________________________\n",
      "activation_27 (Activation)       (None, 24, 24, 32)    0           convolution2d_26[0][0]           \n",
      "____________________________________________________________________________________________________\n",
      "maxpooling2d_8 (MaxPooling2D)    (None, 12, 12, 32)    0           activation_27[0][0]              \n",
      "____________________________________________________________________________________________________\n",
      "dropout_14 (Dropout)             (None, 12, 12, 32)    0           maxpooling2d_8[0][0]             \n",
      "____________________________________________________________________________________________________\n",
      "convolution2d_27 (Convolution2D) (None, 10, 10, 64)    18496       dropout_14[0][0]                 \n",
      "____________________________________________________________________________________________________\n",
      "activation_28 (Activation)       (None, 10, 10, 64)    0           convolution2d_27[0][0]           \n",
      "____________________________________________________________________________________________________\n",
      "convolution2d_28 (Convolution2D) (None, 8, 8, 64)      36928       activation_28[0][0]              \n",
      "____________________________________________________________________________________________________\n",
      "activation_29 (Activation)       (None, 8, 8, 64)      0           convolution2d_28[0][0]           \n",
      "____________________________________________________________________________________________________\n",
      "maxpooling2d_9 (MaxPooling2D)    (None, 4, 4, 64)      0           activation_29[0][0]              \n",
      "____________________________________________________________________________________________________\n",
      "dropout_15 (Dropout)             (None, 4, 4, 64)      0           maxpooling2d_9[0][0]             \n",
      "____________________________________________________________________________________________________\n",
      "flatten_6 (Flatten)              (None, 1024)          0           dropout_15[0][0]                 \n",
      "____________________________________________________________________________________________________\n",
      "dense_12 (Dense)                 (None, 144)           147600      flatten_6[0][0]                  \n",
      "____________________________________________________________________________________________________\n",
      "activation_30 (Activation)       (None, 144)           0           dense_12[0][0]                   \n",
      "____________________________________________________________________________________________________\n",
      "dropout_16 (Dropout)             (None, 144)           0           activation_30[0][0]              \n",
      "____________________________________________________________________________________________________\n",
      "dense_13 (Dense)                 (None, 144)           20880       dropout_16[0][0]                 \n",
      "____________________________________________________________________________________________________\n",
      "activation_31 (Activation)       (None, 144)           0           dense_13[0][0]                   \n",
      "____________________________________________________________________________________________________\n",
      "dropout_17 (Dropout)             (None, 144)           0           activation_31[0][0]              \n",
      "____________________________________________________________________________________________________\n",
      "dense_14 (Dense)                 (None, 10)            1450        dropout_17[0][0]                 \n",
      "____________________________________________________________________________________________________\n",
      "activation_32 (Activation)       (None, 10)            0           dense_14[0][0]                   \n",
      "====================================================================================================\n",
      "Total params: 234922\n",
      "____________________________________________________________________________________________________\n"
     ]
    }
   ],
   "source": [
    "model.add(Convolution2D(nb_filters, kernel_size[0], kernel_size[1], border_mode='valid', input_shape=input_shape))\n",
    "model.add(Activation('relu'))\n",
    "model.add(Convolution2D(nb_filters, kernel_size[0], kernel_size[1]))\n",
    "model.add(Activation('relu'))\n",
    "model.add(MaxPooling2D(pool_size=pool_size))\n",
    "model.add(Dropout(0.25))\n",
    "\n",
    "model.add(Convolution2D(nb_filters*2, kernel_size[0], kernel_size[1]))\n",
    "model.add(Activation('relu'))\n",
    "model.add(Convolution2D(nb_filters*2, kernel_size[0], kernel_size[1]))\n",
    "model.add(Activation('relu'))\n",
    "model.add(MaxPooling2D(pool_size=pool_size))\n",
    "model.add(Dropout(0.25))\n",
    "\n",
    "model.add(Flatten())\n",
    "model.add(Dense(144))\n",
    "model.add(Activation('relu'))\n",
    "model.add(Dropout(0.5))\n",
    "\n",
    "model.add(Dense(144))\n",
    "model.add(Activation('relu'))\n",
    "model.add(Dropout(0.5))\n",
    "\n",
    "model.add(Dense(nb_classes))\n",
    "model.add(Activation('softmax'))\n",
    "\n",
    "model.compile(loss='categorical_crossentropy',\n",
    "             optimizer='adadelta',\n",
    "             metrics=['accuracy'])\n",
    "\n",
    "model.summary()"
   ]
  },
  {
   "cell_type": "code",
   "execution_count": 177,
   "metadata": {
    "collapsed": false
   },
   "outputs": [
    {
     "name": "stdout",
     "output_type": "stream",
     "text": [
      "Train on 37800 samples, validate on 4200 samples\n",
      "Epoch 1/12\n",
      "37800/37800 [==============================] - 180s - loss: 0.0473 - acc: 0.9870 - val_loss: 0.0261 - val_acc: 0.9926\n",
      "Epoch 2/12\n",
      "37800/37800 [==============================] - 178s - loss: 0.0429 - acc: 0.9885 - val_loss: 0.0273 - val_acc: 0.9914\n",
      "('Test score: ', 0.027311888864472469)\n",
      "('Test accuracy: ', 0.99142857142857144)\n"
     ]
    }
   ],
   "source": [
    "# now fit model\n",
    "\n",
    "model.fit(X_train, Y_train, batch_size=batch_size, \n",
    "          nb_epoch=nb_epoch, verbose=1, \n",
    "          validation_data=(X_cv, Y_cv),\n",
    "          callbacks = [keras.callbacks.EarlyStopping()]\n",
    "         )\n",
    "score = model.evaluate(X_cv,Y_cv, verbose=0)\n",
    "print('Test score: ', score[0])\n",
    "print('Test accuracy: ', score[1])"
   ]
  },
  {
   "cell_type": "markdown",
   "metadata": {},
   "source": [
    "previous results\n",
    "\n",
    "- ('Test score: ', 0.03304536611285238)\n",
    "- ('Test accuracy: ', 0.98642857142857143)\n",
    "\n",
    "\n",
    "- ('Test score: ', 0.026988923776163055)\n",
    "- ('Test accuracy: ', 0.98999999999999999)\n",
    "\n",
    "\n",
    "without early stops:\n",
    "- ('Test score: ', 0.027871151176313148)\n",
    "- ('Test accuracy: ', 0.99119047619047618)\n",
    "\n",
    "\n",
    "with early stops:\n",
    "- ('Test score: ', 0.027311888864472469)\n",
    "- ('Test accuracy: ', 0.99142857142857144)"
   ]
  },
  {
   "cell_type": "code",
   "execution_count": 178,
   "metadata": {
    "collapsed": false
   },
   "outputs": [
    {
     "name": "stdout",
     "output_type": "stream",
     "text": [
      "28000/28000 [==============================] - 51s    \n"
     ]
    }
   ],
   "source": [
    "# now make predictions for the test set\n",
    "predictions = model.predict_classes(X_test)"
   ]
  },
  {
   "cell_type": "code",
   "execution_count": 179,
   "metadata": {
    "collapsed": true
   },
   "outputs": [],
   "source": [
    "labels = np.array(range(1, predictions.shape[0]+1))\n",
    "results = np.column_stack([labels, predictions])"
   ]
  },
  {
   "cell_type": "code",
   "execution_count": 180,
   "metadata": {
    "collapsed": false
   },
   "outputs": [],
   "source": [
    "np.savetxt('results-v5-earlystop.csv', results, delimiter=',',\n",
    "          header='ImageId,Label', fmt='%d', comments='')"
   ]
  }
 ],
 "metadata": {
  "anaconda-cloud": {},
  "kernelspec": {
   "display_name": "Python [conda root]",
   "language": "python",
   "name": "conda-root-py"
  },
  "language_info": {
   "codemirror_mode": {
    "name": "ipython",
    "version": 2
   },
   "file_extension": ".py",
   "mimetype": "text/x-python",
   "name": "python",
   "nbconvert_exporter": "python",
   "pygments_lexer": "ipython2",
   "version": "2.7.12"
  }
 },
 "nbformat": 4,
 "nbformat_minor": 1
}
