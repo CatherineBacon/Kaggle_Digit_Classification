{
 "cells": [
  {
   "cell_type": "markdown",
   "metadata": {},
   "source": [
    "getting started with python - random forest\n",
    "\n",
    "used this post as my inspiration:\n",
    "https://www.kaggle.com/c/digit-recognizer/forums/t/2299/getting-started-python-sample-code-random-forest\n",
    "\n",
    "in version 2, use neural network\n",
    "used this as a starting point:\n",
    "https://www.kaggle.com/kobakhit/digit-recognizer/digit-recognizer-in-python-using-cnn/discussion\n",
    "and:\n",
    "http://scikit-learn.org/0.17/auto_examples/neural_networks/plot_rbm_logistic_classification.html#example-neural-networks-plot-rbm-logistic-classification-py"
   ]
  },
  {
   "cell_type": "code",
   "execution_count": 9,
   "metadata": {
    "collapsed": false
   },
   "outputs": [],
   "source": [
    "# import libraries\n",
    "import numpy as np\n",
    "import matplotlib.pyplot as plt\n",
    "import pandas as pd\n",
    "from sklearn.ensemble import RandomForestClassifier\n",
    "import csv\n",
    "import matplotlib.cm as cm\n",
    "from sklearn.neural_network import BernoulliRBM\n",
    "from sklearn import linear_model\n",
    "from sklearn.pipeline import Pipeline"
   ]
  },
  {
   "cell_type": "code",
   "execution_count": 2,
   "metadata": {
    "collapsed": true
   },
   "outputs": [],
   "source": [
    "# Read in the data\n",
    "# Create the training and test sets, skipping the header\n",
    "# row with [1:]\n",
    "dataset = np.genfromtxt(open('train.csv', 'r'),\n",
    "                        delimiter=',', dtype='f8')[1:]\n",
    "target = [x[0] for x in dataset]\n",
    "train = [x[1:] for x in dataset]\n",
    "test = np.genfromtxt(open('test.csv', 'r'),\n",
    "                     delimiter =',', dtype='f8')[1:]"
   ]
  },
  {
   "cell_type": "markdown",
   "metadata": {},
   "source": [
    "try with neural network / linear regression"
   ]
  },
  {
   "cell_type": "code",
   "execution_count": 10,
   "metadata": {
    "collapsed": false
   },
   "outputs": [],
   "source": [
    "# models\n",
    "logistic = linear_model.LogisticRegression()\n",
    "rbm = BernoulliRBM(random_state=0, verbose=True)\n",
    "\n",
    "classifier = Pipeline(steps=[('rbm', rbm),('logistic', logistic)])"
   ]
  },
  {
   "cell_type": "code",
   "execution_count": 12,
   "metadata": {
    "collapsed": false
   },
   "outputs": [
    {
     "name": "stdout",
     "output_type": "stream",
     "text": [
      "[BernoulliRBM] Iteration 1, pseudo-likelihood = -1377160821.11, time = 21.80s\n",
      "[BernoulliRBM] Iteration 2, pseudo-likelihood = -2754423888.42, time = 24.33s\n",
      "[BernoulliRBM] Iteration 3, pseudo-likelihood = -4131686882.28, time = 25.64s\n",
      "[BernoulliRBM] Iteration 4, pseudo-likelihood = -5508950069.14, time = 25.25s\n",
      "[BernoulliRBM] Iteration 5, pseudo-likelihood = -6886213063.53, time = 31.19s\n",
      "[BernoulliRBM] Iteration 6, pseudo-likelihood = -8263476149.96, time = 31.73s\n",
      "[BernoulliRBM] Iteration 7, pseudo-likelihood = -9640739217.52, time = 32.40s\n",
      "[BernoulliRBM] Iteration 8, pseudo-likelihood = -11018002270.36, time = 31.90s\n",
      "[BernoulliRBM] Iteration 9, pseudo-likelihood = -12395265435.29, time = 31.78s\n",
      "[BernoulliRBM] Iteration 10, pseudo-likelihood = -13772528344.48, time = 30.96s\n"
     ]
    },
    {
     "data": {
      "text/plain": [
       "LogisticRegression(C=100.0, class_weight=None, dual=False, fit_intercept=True,\n",
       "          intercept_scaling=1, max_iter=100, multi_class='ovr', n_jobs=1,\n",
       "          penalty='l2', random_state=None, solver='liblinear', tol=0.0001,\n",
       "          verbose=0, warm_start=False)"
      ]
     },
     "execution_count": 12,
     "metadata": {},
     "output_type": "execute_result"
    }
   ],
   "source": [
    "# training\n",
    "# look at hyperparameters using GridSerachCV next time\n",
    "\n",
    "classifier.fit(train, target)\n",
    "\n",
    "logistic_classifier = linear_model.LogisticRegression(C=100.0)\n",
    "logistic_classifier.fit(train, target)"
   ]
  },
  {
   "cell_type": "code",
   "execution_count": 14,
   "metadata": {
    "collapsed": false
   },
   "outputs": [
    {
     "data": {
      "text/plain": [
       "0.11152380952380953"
      ]
     },
     "execution_count": 14,
     "metadata": {},
     "output_type": "execute_result"
    }
   ],
   "source": [
    "logistic_classifier.score(train, target)\n",
    "classifier.score(train, target)"
   ]
  },
  {
   "cell_type": "code",
   "execution_count": 17,
   "metadata": {
    "collapsed": false
   },
   "outputs": [
    {
     "data": {
      "text/plain": [
       "28000"
      ]
     },
     "execution_count": 17,
     "metadata": {},
     "output_type": "execute_result"
    }
   ],
   "source": [
    "# make predictions\n",
    "predictions = logistic_classifier.predict(test)\n",
    "len(predictions)"
   ]
  },
  {
   "cell_type": "code",
   "execution_count": 19,
   "metadata": {
    "collapsed": false
   },
   "outputs": [],
   "source": [
    "# save predictions to file\n",
    "output = csv.writer(open('results-v2.csv', 'wt'))\n",
    "output.writerow([\"ImageId\", \"Label\"])\n",
    "for i, prediction in enumerate(predictions):\n",
    "    output.writerow([i+1, int(prediction)])"
   ]
  }
 ],
 "metadata": {
  "anaconda-cloud": {},
  "kernelspec": {
   "display_name": "Python [conda root]",
   "language": "python",
   "name": "conda-root-py"
  },
  "language_info": {
   "codemirror_mode": {
    "name": "ipython",
    "version": 2
   },
   "file_extension": ".py",
   "mimetype": "text/x-python",
   "name": "python",
   "nbconvert_exporter": "python",
   "pygments_lexer": "ipython2",
   "version": "2.7.12"
  }
 },
 "nbformat": 4,
 "nbformat_minor": 1
}
