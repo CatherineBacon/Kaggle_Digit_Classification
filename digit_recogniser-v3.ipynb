{
 "cells": [
  {
   "cell_type": "markdown",
   "metadata": {},
   "source": [
    "attempt using:\n",
    "\n",
    "http://scikit-learn.org/stable/auto_examples/neural_networks/plot_mnist_filters.html#sphx-glr-auto-examples-neural-networks-plot-mnist-filters-py"
   ]
  },
  {
   "cell_type": "code",
   "execution_count": 2,
   "metadata": {
    "collapsed": true
   },
   "outputs": [],
   "source": [
    "# import libraries\n",
    "import numpy as np\n",
    "import csv\n",
    "from sklearn.neural_network import MLPClassifier\n",
    "from sklearn.model_selection import GridSearchCV"
   ]
  },
  {
   "cell_type": "code",
   "execution_count": 3,
   "metadata": {
    "collapsed": true
   },
   "outputs": [],
   "source": [
    "# Read in the data\n",
    "# Create the training and test sets, skipping the header\n",
    "# row with [1:]\n",
    "dataset = np.genfromtxt(open('train.csv', 'r'),\n",
    "                        delimiter=',', dtype='f8')[1:]\n",
    "target = [x[0] for x in dataset]\n",
    "train = [x[1:]/255 for x in dataset]\n",
    "test = np.genfromtxt(open('test.csv', 'r'),\n",
    "                     delimiter =',', dtype='f8')[1:]\n",
    "test = [x/255 for x in test]"
   ]
  },
  {
   "cell_type": "code",
   "execution_count": 4,
   "metadata": {
    "collapsed": false
   },
   "outputs": [],
   "source": [
    "# set model\n",
    "mlp = MLPClassifier(\n",
    "    early_stopping=True, \n",
    "    hidden_layer_sizes=(50,50)\n",
    ")"
   ]
  },
  {
   "cell_type": "code",
   "execution_count": 5,
   "metadata": {
    "collapsed": false
   },
   "outputs": [
    {
     "name": "stdout",
     "output_type": "stream",
     "text": [
      "Best score: 0.975928571429\n",
      "Best parameters: {'learning_rate': 'adaptive', 'max_iter': 200, 'hidden_layer_sizes': 2000}\n"
     ]
    }
   ],
   "source": [
    "# hyperparameters\n",
    "param_grid = {\n",
    "    'hidden_layer_sizes': [\n",
    "        (2000), (1200, 800, 400, 200)\n",
    "    ],\n",
    "    'max_iter': [200, 400],\n",
    "    'learning_rate': ['constant', 'adaptive'] \n",
    "}\n",
    "\n",
    "clf = GridSearchCV(mlp, param_grid)\n",
    "clf.fit(train, target)\n",
    "print('Best score: {}'.format(clf.best_score_))\n",
    "print('Best parameters: {}'.format(clf.best_params_))"
   ]
  },
  {
   "cell_type": "markdown",
   "metadata": {},
   "source": [
    "Previous result:\n",
    "- Best score: 0.973357142857\n",
    "- Best parameters: {'hidden_layer_sizes': 800}\n",
    "\n",
    "- Best score: 0.974071428571\n",
    "- Best parameters: {'hidden_layer_sizes': 2000}\n",
    "\n",
    "- Best score: 0.975523809524\n",
    "- Best parameters: {'learning_rate': 'constant', 'max_iter': 200, 'hidden_layer_sizes': 2000}\n",
    "\n",
    "\n",
    "- Best score: 0.975928571429\n",
    "- Best parameters: {'learning_rate': 'adaptive', 'max_iter': 200, 'hidden_layer_sizes': 2000}"
   ]
  },
  {
   "cell_type": "code",
   "execution_count": 6,
   "metadata": {
    "collapsed": false
   },
   "outputs": [
    {
     "data": {
      "text/plain": [
       "0.99811904761904757"
      ]
     },
     "execution_count": 6,
     "metadata": {},
     "output_type": "execute_result"
    }
   ],
   "source": [
    "clf.score(train, target)"
   ]
  },
  {
   "cell_type": "code",
   "execution_count": 10,
   "metadata": {
    "collapsed": false
   },
   "outputs": [],
   "source": [
    "# fit model\n",
    "#mlp.fit(train, target)\n",
    "#print(mlp.score(train, target))"
   ]
  },
  {
   "cell_type": "code",
   "execution_count": 9,
   "metadata": {
    "collapsed": false
   },
   "outputs": [],
   "source": [
    "# predictions for test set\n",
    "predictions = clf.predict(test)"
   ]
  },
  {
   "cell_type": "code",
   "execution_count": 10,
   "metadata": {
    "collapsed": true
   },
   "outputs": [],
   "source": [
    "# save predictions to file\n",
    "output = csv.writer(open('results-v3.csv', 'wt'))\n",
    "output.writerow([\"ImageId\", \"Label\"])\n",
    "for i, prediction in enumerate(predictions):\n",
    "    output.writerow([i+1, int(prediction)])"
   ]
  },
  {
   "cell_type": "code",
   "execution_count": null,
   "metadata": {
    "collapsed": true
   },
   "outputs": [],
   "source": []
  }
 ],
 "metadata": {
  "anaconda-cloud": {},
  "kernelspec": {
   "display_name": "Python [conda root]",
   "language": "python",
   "name": "conda-root-py"
  },
  "language_info": {
   "codemirror_mode": {
    "name": "ipython",
    "version": 2
   },
   "file_extension": ".py",
   "mimetype": "text/x-python",
   "name": "python",
   "nbconvert_exporter": "python",
   "pygments_lexer": "ipython2",
   "version": "2.7.12"
  }
 },
 "nbformat": 4,
 "nbformat_minor": 1
}
